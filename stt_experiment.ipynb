{
 "cells": [
  {
   "cell_type": "code",
   "execution_count": 2,
   "metadata": {},
   "outputs": [],
   "source": [
    "import pandas as pd\n",
    "import numpy as np\n",
    "from config import Config\n"
   ]
  },
  {
   "attachments": {},
   "cell_type": "markdown",
   "metadata": {},
   "source": [
    "### Define config file for expermient"
   ]
  },
  {
   "cell_type": "code",
   "execution_count": null,
   "metadata": {},
   "outputs": [],
   "source": [
    "base_config_file_path = \"config.ini\"\n",
    "experiment_config_file = \"config_experiment.ini\"\n",
    "\n",
    "experiment_config = {\n",
    "    \"end_of_phrase_silence_time\": 1.5,\n",
    "    \"inactivity_timeout\": -1,\n",
    "    \"speech_detector_sensitivity\": 0.5,\n",
    "    \"background_audio_suppression\": 0.0,\n",
    "    \"smart_formatting\": False,\n",
    "    \"low_latency\": False,\n",
    "}\n",
    "\n",
    "config = Config(base_config_file_path)\n",
    "section = \"SpeechToText\"\n",
    "\n",
    "for key, value in experiment_config:\n",
    "    config.setValue(section, key, value)\n",
    "\n",
    "config.writeFile(experiment_config_file)"
   ]
  },
  {
   "cell_type": "code",
   "execution_count": 3,
   "metadata": {},
   "outputs": [],
   "source": [
    "from transcribe import run\n"
   ]
  },
  {
   "cell_type": "code",
   "execution_count": null,
   "metadata": {},
   "outputs": [],
   "source": []
  },
  {
   "cell_type": "code",
   "execution_count": null,
   "metadata": {},
   "outputs": [],
   "source": []
  }
 ],
 "metadata": {
  "kernelspec": {
   "display_name": "watson-stt-wer-env",
   "language": "python",
   "name": "python3"
  },
  "language_info": {
   "codemirror_mode": {
    "name": "ipython",
    "version": 3
   },
   "file_extension": ".py",
   "mimetype": "text/x-python",
   "name": "python",
   "nbconvert_exporter": "python",
   "pygments_lexer": "ipython3",
   "version": "3.11.2"
  },
  "orig_nbformat": 4,
  "vscode": {
   "interpreter": {
    "hash": "6e813b65b7ff0fa60f7cc4e56e09d43f2588a7f62048bb41a4f9ebb73e8be54f"
   }
  }
 },
 "nbformat": 4,
 "nbformat_minor": 2
}
